{
  "cells": [
    {
      "cell_type": "markdown",
      "metadata": {
        "id": "view-in-github",
        "colab_type": "text"
      },
      "source": [
        "<a href=\"https://colab.research.google.com/github/Ananya-1233/BERT-Classification/blob/main/Covid_Text_Classification_Using_BERT.ipynb\" target=\"_parent\"><img src=\"https://colab.research.google.com/assets/colab-badge.svg\" alt=\"Open In Colab\"/></a>"
      ]
    },
    {
      "cell_type": "code",
      "execution_count": 1,
      "metadata": {
        "id": "PtVZ9P5X67FN",
        "colab": {
          "base_uri": "https://localhost:8080/"
        },
        "outputId": "c6172bc4-8c41-4ab6-89f1-63166db0c50d"
      },
      "outputs": [
        {
          "output_type": "stream",
          "name": "stdout",
          "text": [
            "mkdir: cannot create directory ‘/root/.kaggle’: File exists\n"
          ]
        }
      ],
      "source": [
        "! mkdir ~/.kaggle\n",
        "! cp kaggle.json ~/.kaggle/\n",
        "! chmod 600 ~/.kaggle/kaggle.json"
      ]
    },
    {
      "cell_type": "code",
      "execution_count": 2,
      "metadata": {
        "colab": {
          "base_uri": "https://localhost:8080/"
        },
        "id": "WYnnY-ld7GoB",
        "outputId": "47dc4940-0b78-4f00-dbd3-52d1c87ea56d"
      },
      "outputs": [
        {
          "output_type": "stream",
          "name": "stdout",
          "text": [
            "covid-19-nlp-text-classification.zip: Skipping, found more recently modified local copy (use --force to force download)\n"
          ]
        }
      ],
      "source": [
        "!kaggle datasets download -d datatattle/covid-19-nlp-text-classification"
      ]
    },
    {
      "cell_type": "code",
      "execution_count": 3,
      "metadata": {
        "id": "FPiuFmlP7M_D"
      },
      "outputs": [],
      "source": [
        "import zipfile\n",
        "\n",
        "data_zip = zipfile.ZipFile('/content/covid-19-nlp-text-classification.zip')\n",
        "data_zip.extractall()             \n",
        "data_zip.close()"
      ]
    },
    {
      "cell_type": "markdown",
      "source": [
        "Define the training and testing directives.\n",
        "\n",
        "Get the BERT models from tensorflow hub"
      ],
      "metadata": {
        "id": "7PhXuuvrfsns"
      }
    },
    {
      "cell_type": "code",
      "execution_count": 3,
      "metadata": {
        "id": "4M_HzVru7VOl"
      },
      "outputs": [],
      "source": [
        "train_dir = '/content/Corona_NLP_train.csv'\n",
        "test_dir = '/content/Corona_NLP_test.csv'\n",
        "\n",
        "BERT_encoder = 'https://tfhub.dev/tensorflow/small_bert/bert_en_uncased_L-4_H-512_A-8/1'   #BERT encoder model\n",
        "BERT_preprocess = 'https://tfhub.dev/tensorflow/bert_en_uncased_preprocess/3'              #Preprocess data into the form expected by BERT"
      ]
    },
    {
      "cell_type": "markdown",
      "source": [
        "Define the various classnames and intialize batch size, number of epochs and learning rate for the BERT encoder model."
      ],
      "metadata": {
        "id": "LoXssrDshDQY"
      }
    },
    {
      "cell_type": "code",
      "source": [
        "classnames = ['Extremely negative' , 'Negative' , 'Positive' , 'Extremely Positive' , 'Neutral']\n",
        "\n",
        "BATCH_SIZE = 128\n",
        "EPOCHS = 20\n",
        "LEARNING_RATE = 1e-04"
      ],
      "metadata": {
        "id": "-MRz-Knfg7ev"
      },
      "execution_count": 4,
      "outputs": []
    },
    {
      "cell_type": "code",
      "execution_count": 6,
      "metadata": {
        "id": "thi6NgWt7_az"
      },
      "outputs": [],
      "source": [
        "# -- Import Libraries -- \n",
        "import os\n",
        "import numpy as np\n",
        "\n",
        "import pandas as pd\n",
        "import matplotlib.pyplot as plt\n",
        "import seaborn as sns\n",
        "\n",
        "from sklearn import model_selection\n",
        "from sklearn.preprocessing import LabelEncoder\n",
        "from sklearn.metrics import confusion_matrix\n",
        "\n",
        "from official.nlp import optimization\n",
        "from nltk.corpus import stopwords\n",
        "\n",
        "import tensorflow as tf\n",
        "import tensorflow_hub as hub\n",
        "import tensorflow_text as text\n",
        "from tensorflow.keras import layers, losses, preprocessing\n",
        "\n",
        "tf.get_logger().setLevel('ERROR')"
      ]
    },
    {
      "cell_type": "code",
      "execution_count": 7,
      "metadata": {
        "colab": {
          "base_uri": "https://localhost:8080/",
          "height": 206
        },
        "id": "IH4HEsga8CLD",
        "outputId": "519dc34d-375a-4bb7-ed20-679a1b5e8a8f"
      },
      "outputs": [
        {
          "output_type": "execute_result",
          "data": {
            "text/plain": [
              "   UserName  ScreenName   Location     TweetAt  \\\n",
              "0      3799       48751     London  16-03-2020   \n",
              "1      3800       48752         UK  16-03-2020   \n",
              "2      3801       48753  Vagabonds  16-03-2020   \n",
              "3      3802       48754        NaN  16-03-2020   \n",
              "4      3803       48755        NaN  16-03-2020   \n",
              "\n",
              "                                       OriginalTweet           Sentiment  \n",
              "0  @MeNyrbie @Phil_Gahan @Chrisitv https://t.co/i...             Neutral  \n",
              "1  advice Talk to your neighbours family to excha...            Positive  \n",
              "2  Coronavirus Australia: Woolworths to give elde...            Positive  \n",
              "3  My food stock is not the only one which is emp...            Positive  \n",
              "4  Me, ready to go at supermarket during the #COV...  Extremely Negative  "
            ],
            "text/html": [
              "\n",
              "  <div id=\"df-80cd43a3-42e2-49d1-bb62-4de529a358c5\">\n",
              "    <div class=\"colab-df-container\">\n",
              "      <div>\n",
              "<style scoped>\n",
              "    .dataframe tbody tr th:only-of-type {\n",
              "        vertical-align: middle;\n",
              "    }\n",
              "\n",
              "    .dataframe tbody tr th {\n",
              "        vertical-align: top;\n",
              "    }\n",
              "\n",
              "    .dataframe thead th {\n",
              "        text-align: right;\n",
              "    }\n",
              "</style>\n",
              "<table border=\"1\" class=\"dataframe\">\n",
              "  <thead>\n",
              "    <tr style=\"text-align: right;\">\n",
              "      <th></th>\n",
              "      <th>UserName</th>\n",
              "      <th>ScreenName</th>\n",
              "      <th>Location</th>\n",
              "      <th>TweetAt</th>\n",
              "      <th>OriginalTweet</th>\n",
              "      <th>Sentiment</th>\n",
              "    </tr>\n",
              "  </thead>\n",
              "  <tbody>\n",
              "    <tr>\n",
              "      <th>0</th>\n",
              "      <td>3799</td>\n",
              "      <td>48751</td>\n",
              "      <td>London</td>\n",
              "      <td>16-03-2020</td>\n",
              "      <td>@MeNyrbie @Phil_Gahan @Chrisitv https://t.co/i...</td>\n",
              "      <td>Neutral</td>\n",
              "    </tr>\n",
              "    <tr>\n",
              "      <th>1</th>\n",
              "      <td>3800</td>\n",
              "      <td>48752</td>\n",
              "      <td>UK</td>\n",
              "      <td>16-03-2020</td>\n",
              "      <td>advice Talk to your neighbours family to excha...</td>\n",
              "      <td>Positive</td>\n",
              "    </tr>\n",
              "    <tr>\n",
              "      <th>2</th>\n",
              "      <td>3801</td>\n",
              "      <td>48753</td>\n",
              "      <td>Vagabonds</td>\n",
              "      <td>16-03-2020</td>\n",
              "      <td>Coronavirus Australia: Woolworths to give elde...</td>\n",
              "      <td>Positive</td>\n",
              "    </tr>\n",
              "    <tr>\n",
              "      <th>3</th>\n",
              "      <td>3802</td>\n",
              "      <td>48754</td>\n",
              "      <td>NaN</td>\n",
              "      <td>16-03-2020</td>\n",
              "      <td>My food stock is not the only one which is emp...</td>\n",
              "      <td>Positive</td>\n",
              "    </tr>\n",
              "    <tr>\n",
              "      <th>4</th>\n",
              "      <td>3803</td>\n",
              "      <td>48755</td>\n",
              "      <td>NaN</td>\n",
              "      <td>16-03-2020</td>\n",
              "      <td>Me, ready to go at supermarket during the #COV...</td>\n",
              "      <td>Extremely Negative</td>\n",
              "    </tr>\n",
              "  </tbody>\n",
              "</table>\n",
              "</div>\n",
              "      <button class=\"colab-df-convert\" onclick=\"convertToInteractive('df-80cd43a3-42e2-49d1-bb62-4de529a358c5')\"\n",
              "              title=\"Convert this dataframe to an interactive table.\"\n",
              "              style=\"display:none;\">\n",
              "        \n",
              "  <svg xmlns=\"http://www.w3.org/2000/svg\" height=\"24px\"viewBox=\"0 0 24 24\"\n",
              "       width=\"24px\">\n",
              "    <path d=\"M0 0h24v24H0V0z\" fill=\"none\"/>\n",
              "    <path d=\"M18.56 5.44l.94 2.06.94-2.06 2.06-.94-2.06-.94-.94-2.06-.94 2.06-2.06.94zm-11 1L8.5 8.5l.94-2.06 2.06-.94-2.06-.94L8.5 2.5l-.94 2.06-2.06.94zm10 10l.94 2.06.94-2.06 2.06-.94-2.06-.94-.94-2.06-.94 2.06-2.06.94z\"/><path d=\"M17.41 7.96l-1.37-1.37c-.4-.4-.92-.59-1.43-.59-.52 0-1.04.2-1.43.59L10.3 9.45l-7.72 7.72c-.78.78-.78 2.05 0 2.83L4 21.41c.39.39.9.59 1.41.59.51 0 1.02-.2 1.41-.59l7.78-7.78 2.81-2.81c.8-.78.8-2.07 0-2.86zM5.41 20L4 18.59l7.72-7.72 1.47 1.35L5.41 20z\"/>\n",
              "  </svg>\n",
              "      </button>\n",
              "      \n",
              "  <style>\n",
              "    .colab-df-container {\n",
              "      display:flex;\n",
              "      flex-wrap:wrap;\n",
              "      gap: 12px;\n",
              "    }\n",
              "\n",
              "    .colab-df-convert {\n",
              "      background-color: #E8F0FE;\n",
              "      border: none;\n",
              "      border-radius: 50%;\n",
              "      cursor: pointer;\n",
              "      display: none;\n",
              "      fill: #1967D2;\n",
              "      height: 32px;\n",
              "      padding: 0 0 0 0;\n",
              "      width: 32px;\n",
              "    }\n",
              "\n",
              "    .colab-df-convert:hover {\n",
              "      background-color: #E2EBFA;\n",
              "      box-shadow: 0px 1px 2px rgba(60, 64, 67, 0.3), 0px 1px 3px 1px rgba(60, 64, 67, 0.15);\n",
              "      fill: #174EA6;\n",
              "    }\n",
              "\n",
              "    [theme=dark] .colab-df-convert {\n",
              "      background-color: #3B4455;\n",
              "      fill: #D2E3FC;\n",
              "    }\n",
              "\n",
              "    [theme=dark] .colab-df-convert:hover {\n",
              "      background-color: #434B5C;\n",
              "      box-shadow: 0px 1px 3px 1px rgba(0, 0, 0, 0.15);\n",
              "      filter: drop-shadow(0px 1px 2px rgba(0, 0, 0, 0.3));\n",
              "      fill: #FFFFFF;\n",
              "    }\n",
              "  </style>\n",
              "\n",
              "      <script>\n",
              "        const buttonEl =\n",
              "          document.querySelector('#df-80cd43a3-42e2-49d1-bb62-4de529a358c5 button.colab-df-convert');\n",
              "        buttonEl.style.display =\n",
              "          google.colab.kernel.accessAllowed ? 'block' : 'none';\n",
              "\n",
              "        async function convertToInteractive(key) {\n",
              "          const element = document.querySelector('#df-80cd43a3-42e2-49d1-bb62-4de529a358c5');\n",
              "          const dataTable =\n",
              "            await google.colab.kernel.invokeFunction('convertToInteractive',\n",
              "                                                     [key], {});\n",
              "          if (!dataTable) return;\n",
              "\n",
              "          const docLinkHtml = 'Like what you see? Visit the ' +\n",
              "            '<a target=\"_blank\" href=https://colab.research.google.com/notebooks/data_table.ipynb>data table notebook</a>'\n",
              "            + ' to learn more about interactive tables.';\n",
              "          element.innerHTML = '';\n",
              "          dataTable['output_type'] = 'display_data';\n",
              "          await google.colab.output.renderOutput(dataTable, element);\n",
              "          const docLink = document.createElement('div');\n",
              "          docLink.innerHTML = docLinkHtml;\n",
              "          element.appendChild(docLink);\n",
              "        }\n",
              "      </script>\n",
              "    </div>\n",
              "  </div>\n",
              "  "
            ]
          },
          "metadata": {},
          "execution_count": 7
        }
      ],
      "source": [
        "#Read the training and testing csv files\n",
        "\n",
        "train_data = pd.read_csv(train_dir , encoding = 'L1')\n",
        "test_data = pd.read_csv(test_dir , encoding = 'L1')\n",
        "\n",
        "train_data.head()"
      ]
    },
    {
      "cell_type": "markdown",
      "source": [
        "Plot a graph that visualizes the data distribution based on the different classes"
      ],
      "metadata": {
        "id": "pS03kSBeiOhY"
      }
    },
    {
      "cell_type": "code",
      "execution_count": 8,
      "metadata": {
        "colab": {
          "base_uri": "https://localhost:8080/",
          "height": 391
        },
        "id": "9V8j05ot8kSN",
        "outputId": "969cddd7-0609-4c7d-b974-7e689eba0b03"
      },
      "outputs": [
        {
          "output_type": "display_data",
          "data": {
            "text/plain": [
              "<Figure size 1600x400 with 1 Axes>"
            ],
            "image/png": "[encoded data removed]"
          },
          "metadata": {}
        }
      ],
      "source": [
        "fig = plt.figure(figsize = (16 , 4))\n",
        "x = train_data.Sentiment.value_counts()\n",
        "\n",
        "plt.bar(x = x.index,\n",
        "        height = x.values,\n",
        "        width = 0.5)\n",
        "\n",
        "plt.title('Data distribution')\n",
        "\n",
        "plt.show()"
      ]
    },
    {
      "cell_type": "code",
      "execution_count": 9,
      "metadata": {
        "colab": {
          "base_uri": "https://localhost:8080/"
        },
        "id": "FUAELUPv7zh1",
        "outputId": "56287186-75cb-4608-d757-5684287bdaca"
      },
      "outputs": [
        {
          "output_type": "stream",
          "name": "stderr",
          "text": [
            "[nltk_data] Downloading package stopwords to /root/nltk_data...\n",
            "[nltk_data]   Unzipping corpora/stopwords.zip.\n"
          ]
        },
        {
          "output_type": "execute_result",
          "data": {
            "text/plain": [
              "True"
            ]
          },
          "metadata": {},
          "execution_count": 9
        }
      ],
      "source": [
        "import nltk\n",
        "nltk.download('stopwords')"
      ]
    },
    {
      "cell_type": "markdown",
      "source": [
        "Use the NLTK module of NLP and lambda function to remove stopwords.\n"
      ],
      "metadata": {
        "id": "58dBXKDniylQ"
      }
    },
    {
      "cell_type": "code",
      "execution_count": 10,
      "metadata": {
        "id": "bATmuDkL86lY"
      },
      "outputs": [],
      "source": [
        "sw_nltk = stopwords.words('english')\n",
        "remove_stopwords = lambda text : \" \".join([word for word in str(text).split() if word.lower() not in sw_nltk])\n",
        "train_data['OriginalTweet'] = train_data['OriginalTweet'].apply(remove_stopwords)"
      ]
    },
    {
      "cell_type": "code",
      "execution_count": 11,
      "metadata": {
        "colab": {
          "base_uri": "https://localhost:8080/"
        },
        "id": "K1GtVM-s7wbi",
        "outputId": "db9a5fcb-480f-4848-aabc-7d42828a29b2"
      },
      "outputs": [
        {
          "output_type": "stream",
          "name": "stdout",
          "text": [
            "Text:food stock one empty... PLEASE, panic, ENOUGH FOOD EVERYONE take need. Stay calm, stay safe. #COVID19france #COVID_19 #COVID19 #coronavirus #confinement #Confinementotal #ConfinementGeneral https://t.co/zrlG0Z520j\n",
            "\n",
            "Target: Positive\n"
          ]
        }
      ],
      "source": [
        "#Print a sample text with its respective class.\n",
        "\n",
        "print(f'Text:{train_data.OriginalTweet[3]}\\n')\n",
        "print(f'Target: {train_data.Sentiment[3]}')"
      ]
    },
    {
      "cell_type": "code",
      "execution_count": 12,
      "metadata": {
        "id": "bFluLetG8ZrU"
      },
      "outputs": [],
      "source": [
        "#Split the training dataset in training and validation dataset\n",
        "\n",
        "from sklearn.model_selection import train_test_split\n",
        "\n",
        "train_X , val_X , train_y , val_y = train_test_split(train_data['OriginalTweet'],\n",
        "                                                     train_data['Sentiment'],\n",
        "                                                     test_size = 0.3)\n",
        "\n",
        "test_X , test_y = test_data['OriginalTweet'],test_data['Sentiment']"
      ]
    },
    {
      "cell_type": "markdown",
      "source": [
        "Using sklearn's LabelEncoder, get encoded labels for the different classes(One Hot Encoded labels)"
      ],
      "metadata": {
        "id": "7UmMcqQhjYA5"
      }
    },
    {
      "cell_type": "code",
      "execution_count": 13,
      "metadata": {
        "id": "5orH7wavA3B3"
      },
      "outputs": [],
      "source": [
        "label_encoder = LabelEncoder()\n",
        "\n",
        "vec = label_encoder.fit_transform(train_y)\n",
        "train_y = tf.keras.utils.to_categorical(vec)\n",
        "\n",
        "vec = label_encoder.fit_transform(val_y)\n",
        "val_y = tf.keras.utils.to_categorical(vec)\n",
        "\n",
        "vec = label_encoder.fit_transform(test_y)\n",
        "test_y = tf.keras.utils.to_categorical(vec)"
      ]
    },
    {
      "cell_type": "code",
      "execution_count": 14,
      "metadata": {
        "colab": {
          "base_uri": "https://localhost:8080/"
        },
        "id": "LBHuQg3sBkhw",
        "outputId": "25670704-88f6-4ff5-bc31-a1b5b048d0ca"
      },
      "outputs": [
        {
          "output_type": "execute_result",
          "data": {
            "text/plain": [
              "array([[0., 1., 0., 0., 0.],\n",
              "       [0., 0., 1., 0., 0.],\n",
              "       [0., 0., 0., 1., 0.],\n",
              "       ...,\n",
              "       [0., 0., 0., 0., 1.],\n",
              "       [0., 0., 0., 1., 0.],\n",
              "       [1., 0., 0., 0., 0.]], dtype=float32)"
            ]
          },
          "metadata": {},
          "execution_count": 14
        }
      ],
      "source": [
        "train_y"
      ]
    },
    {
      "cell_type": "code",
      "execution_count": 15,
      "metadata": {
        "id": "0l103uUrBlrc"
      },
      "outputs": [],
      "source": [
        "#Generate a BERT tensorflow model\n",
        "\n",
        "def bert_model():\n",
        "\n",
        "  text_input = tf.keras.layers.Input(shape = (),\n",
        "                                     dtype = tf.string,\n",
        "                                     name = 'text_Input')\n",
        "  \n",
        "  preprocessing_layer = hub.KerasLayer(BERT_preprocess,\n",
        "                                       name = 'preprocessing')\n",
        "  \n",
        "  encoder_inputs = preprocessing_layer(text_input)\n",
        "\n",
        "  encoder = hub.KerasLayer(BERT_encoder,\n",
        "                           trainable = True,\n",
        "                           name = 'BERT_encoder')\n",
        "  \n",
        "  outputs = encoder(encoder_inputs)\n",
        "\n",
        "  net = outputs['pooled_output']\n",
        "  net = tf.keras.layers.Dropout(0.2)(net)\n",
        "  net = tf.keras.layers.Dense(5,\n",
        "                              activation = 'softmax',\n",
        "                              name = 'classifier')(net)\n",
        "  model = tf.keras.Model(text_input , net)\n",
        "\n",
        "  return model\n",
        "\n",
        "#Obtain an instance of the model\n",
        "\n",
        "model = bert_model()"
      ]
    },
    {
      "cell_type": "code",
      "execution_count": 16,
      "metadata": {
        "colab": {
          "base_uri": "https://localhost:8080/",
          "height": 466
        },
        "id": "lDccrJHIa0fG",
        "outputId": "76e78d60-e675-4b10-f078-602be4ef8d43"
      },
      "outputs": [
        {
          "output_type": "execute_result",
          "data": {
            "image/png": "[encoded data removed]",
            "text/plain": [
              "<IPython.core.display.Image object>"
            ]
          },
          "metadata": {},
          "execution_count": 16
        }
      ],
      "source": [
        "#Plot the anatomy of the model \n",
        "\n",
        "tf.keras.utils.plot_model(model)"
      ]
    },
    {
      "cell_type": "code",
      "execution_count": 17,
      "metadata": {
        "id": "2r0yZqjBb7b6"
      },
      "outputs": [],
      "source": [
        "# -- Optimizer -- \n",
        "# will use the same optimizer that BERT was originally trained with: the \"Adaptive Moments\" (Adam). \n",
        "train_data_size = len(train_X)\n",
        "steps_per_epoch = int(train_data_size/BATCH_SIZE)\n",
        "num_train_steps = steps_per_epoch * EPOCHS\n",
        "num_warmup_steps = int(0.1*num_train_steps/BATCH_SIZE)\n",
        "\n",
        "optimizer = optimization.create_optimizer(init_lr=LEARNING_RATE,\n",
        "                                          num_train_steps=num_train_steps,\n",
        "                                          num_warmup_steps=num_warmup_steps,\n",
        "                                          optimizer_type='adamw')\n",
        "\n",
        "# -- compile the model --\n",
        "model.compile(optimizer=optimizer,\n",
        "              loss=tf.keras.losses.CategoricalCrossentropy(),\n",
        "              metrics=['accuracy'])"
      ]
    },
    {
      "cell_type": "code",
      "execution_count": 26,
      "metadata": {
        "id": "yQ-xT82pcXMz"
      },
      "outputs": [],
      "source": [
        "history = model.fit(train_X,\n",
        "                    train_y,\n",
        "                    validation_data=(val_X, val_y),\n",
        "                    epochs=1,\n",
        "                    validation_steps=1,\n",
        "                    verbose=0,\n",
        "                    batch_size=BATCH_SIZE)"
      ]
    },
    {
      "cell_type": "code",
      "execution_count": 21,
      "metadata": {
        "id": "ZANc0ZwEd93A",
        "colab": {
          "base_uri": "https://localhost:8080/"
        },
        "outputId": "e9bbc5c5-842f-4be6-cec2-238e178c80e6"
      },
      "outputs": [
        {
          "output_type": "stream",
          "name": "stdout",
          "text": [
            "119/119 [==============================] - 16s 131ms/step - loss: 1.1134 - accuracy: 0.7283\n",
            "Test loss:  1.113360047340393 , Test Accuracy:  72.82780408859253 %\n"
          ]
        }
      ],
      "source": [
        "# -- Testing --\n",
        "loss, accuracy = model.evaluate(test_X , test_y)\n",
        "print(\"Test loss: \", loss, \", Test Accuracy: \", 100*accuracy, \"%\")"
      ]
    },
    {
      "cell_type": "code",
      "execution_count": 22,
      "metadata": {
        "id": "LMfCEMOvd90J",
        "colab": {
          "base_uri": "https://localhost:8080/"
        },
        "outputId": "d922f878-0f88-4144-a7b0-7d895749228d"
      },
      "outputs": [
        {
          "output_type": "stream",
          "name": "stderr",
          "text": [
            "WARNING:absl:Function `_wrapped_model` contains input name(s) text_Input with unsupported characters which will be renamed to text_input in the SavedModel.\n",
            "WARNING:absl:Found untraced functions such as restored_function_body, restored_function_body, restored_function_body, restored_function_body, restored_function_body while saving (showing 5 of 124). These functions will not be directly callable after loading.\n"
          ]
        }
      ],
      "source": [
        "# -- Save the Model -- \n",
        "model.save('classifier_model')"
      ]
    },
    {
      "cell_type": "code",
      "execution_count": 23,
      "metadata": {
        "id": "kTvhAwDxeENQ",
        "colab": {
          "base_uri": "https://localhost:8080/",
          "height": 591
        },
        "outputId": "788be954-074c-4911-cfad-3fef7365bb9e"
      },
      "outputs": [
        {
          "output_type": "stream",
          "name": "stdout",
          "text": [
            "901/901 [==============================] - 96s 106ms/step\n"
          ]
        },
        {
          "output_type": "display_data",
          "data": {
            "text/plain": [
              "<Figure size 640x480 with 2 Axes>"
            ],
            "image/png": "[encoded data removed]"
          },
          "metadata": {}
        }
      ],
      "source": [
        "plt.title('confusion matrix - train data')\n",
        "plt.xlabel(\"Predicted\")\n",
        "plt.ylabel(\"True\")\n",
        "\n",
        "preds = model.predict(train_X)\n",
        "\n",
        "# Convert the one-hot labels into scalar values\n",
        "train_labels = tf.argmax(train_y, axis = 1)\n",
        "preds_labels = tf.argmax(preds, axis = 1)\n",
        "\n",
        "conf_matrix = tf.math.confusion_matrix(train_labels,\n",
        "                                       preds_labels,\n",
        "                                       5,\n",
        "                                       dtype=tf.dtypes.float32)\n",
        "\n",
        "# Normalize the confusion matrix so that each row sums to 1.\n",
        "cm_train = conf_matrix/conf_matrix.numpy().sum(axis=1)[:, tf.newaxis]\n",
        "\n",
        "sns.heatmap(data=cm_train,\n",
        "            annot=True,\n",
        "            xticklabels=classnames,\n",
        "            yticklabels=classnames)\n",
        "\n",
        "plt.show()"
      ]
    },
    {
      "cell_type": "code",
      "source": [],
      "metadata": {
        "id": "5kCcvFK-0TKe"
      },
      "execution_count": 23,
      "outputs": []
    }
  ],
  "metadata": {
    "colab": {
      "provenance": [],
      "gpuType": "T4",
      "authorship_tag": "ABX9TyNgNA71vzjYQw5PulZ2O5/z",
      "include_colab_link": true
    },
    "kernelspec": {
      "display_name": "Python 3",
      "name": "python3"
    },
    "language_info": {
      "name": "python"
    },
    "accelerator": "GPU"
  },
  "nbformat": 4,
  "nbformat_minor": 0
}